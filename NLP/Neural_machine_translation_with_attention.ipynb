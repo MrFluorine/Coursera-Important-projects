{
  "nbformat": 4,
  "nbformat_minor": 0,
  "metadata": {
    "colab": {
      "provenance": [],
      "toc_visible": true
    },
    "kernelspec": {
      "name": "python3",
      "display_name": "Python 3"
    },
    "language_info": {
      "name": "python"
    }
  },
  "cells": [
    {
      "cell_type": "markdown",
      "source": [
        "# Imports"
      ],
      "metadata": {
        "id": "4JYkgTzrlTap"
      }
    },
    {
      "cell_type": "code",
      "source": [
        "pip install Faker\n"
      ],
      "metadata": {
        "colab": {
          "base_uri": "https://localhost:8080/"
        },
        "id": "S5eXG9MEhITJ",
        "outputId": "5bb7dea4-f562-4f28-f971-43865f031550"
      },
      "execution_count": 14,
      "outputs": [
        {
          "output_type": "stream",
          "name": "stdout",
          "text": [
            "Requirement already satisfied: Faker in /usr/local/lib/python3.10/dist-packages (19.11.0)\n",
            "Requirement already satisfied: python-dateutil>=2.4 in /usr/local/lib/python3.10/dist-packages (from Faker) (2.8.2)\n",
            "Requirement already satisfied: six>=1.5 in /usr/local/lib/python3.10/dist-packages (from python-dateutil>=2.4->Faker) (1.16.0)\n"
          ]
        }
      ]
    },
    {
      "cell_type": "code",
      "execution_count": 48,
      "metadata": {
        "id": "b_mnIKRIWKMQ"
      },
      "outputs": [],
      "source": [
        "from tensorflow.keras.layers import Bidirectional, Concatenate, Permute, Dot, Input, LSTM, Multiply\n",
        "from tensorflow.keras.layers import RepeatVector, Dense, Activation, Lambda\n",
        "from tensorflow.keras.optimizers import Adam\n",
        "from tensorflow.keras.utils import to_categorical\n",
        "from tensorflow.keras.models import load_model, Model\n",
        "import tensorflow.keras.backend as K\n",
        "import tensorflow as tf\n",
        "import numpy as np\n",
        "from faker import Faker\n",
        "import random\n",
        "from tqdm import tqdm     #\n",
        "from babel.dates import format_date\n",
        "from test_utils import *\n",
        "import matplotlib.pyplot as plt\n",
        "%matplotlib inline\n",
        "\n",
        "\n"
      ]
    },
    {
      "cell_type": "markdown",
      "source": [
        "## Functions for creating dataset"
      ],
      "metadata": {
        "id": "yOWqv_Y1t717"
      }
    },
    {
      "cell_type": "code",
      "source": [
        "fake = Faker()\n",
        "Faker.seed(54321)\n",
        "random.seed(54321)\n",
        "\n",
        "# Define format of the dataset we would like to generate\n",
        "FORMATS = ['short',\n",
        "           'medium',\n",
        "           'long',\n",
        "           'full',\n",
        "           'full',\n",
        "           'full',\n",
        "           'full',\n",
        "           'full',\n",
        "           'full',\n",
        "           'full',\n",
        "           'full',\n",
        "           'full',\n",
        "           'full',\n",
        "           'd MMM YYY',\n",
        "           'd MMMM YYY',\n",
        "           'dd MMM YYY',\n",
        "           'd MMM, YYY',\n",
        "           'd MMMM, YYY',\n",
        "           'dd, MMM YYY',\n",
        "           'd MM YY',\n",
        "           'd MMMM YYY',\n",
        "           'MMMM d YYY',\n",
        "           'MMMM d, YYY',\n",
        "           'dd.MM.YY']\n",
        "\n",
        "LOCALES = [\"en_US\"]\n",
        "\n",
        "def load_date():\n",
        "  dt = fake.date_object()\n",
        "  try:\n",
        "    human_readable = format_date(dt, format = random.choice(FORMATS), locale='en_US')\n",
        "    human_readable = human_readable.lower()\n",
        "    human_readable = human_readable.replace(',','')\n",
        "    machine_readable = dt.isoformat()\n",
        "  except AttributeError as e:\n",
        "    return None, None, None\n",
        "  return human_readable, machine_readable, dt\n",
        "\n",
        "def load_dataset(m):\n",
        "  human_vocab = set()\n",
        "  machine_vocab = set()\n",
        "  dataset = []\n",
        "  Tx = 30\n",
        "\n",
        "  for i in tqdm(range(m)):\n",
        "    h, m, _ = load_date()\n",
        "    if h is not None:\n",
        "      dataset.append((h,m))\n",
        "      human_vocab.update(tuple(h))\n",
        "      machine_vocab.update(tuple(m))\n",
        "  human = dict(zip(sorted(human_vocab)+['<unk>', '<pad>'], list(range(len(human_vocab) + 2))))\n",
        "  inv_machine = dict(enumerate(sorted(machine_vocab)))\n",
        "  machine = {v:k for k, v in inv_machine.items()}\n",
        "  return dataset, human, machine, inv_machine\n",
        "\n",
        "\n",
        "def string_to_int(string, length, vocab):\n",
        "  string = string.lower()\n",
        "  string = string.replace(\",\", \"\")\n",
        "\n",
        "  if len(string)> length:\n",
        "    string = string[:length]\n",
        "  rep = list(map(lambda x: vocab.get(x, '<unk>'), string))\n",
        "  if len(string)< length:\n",
        "    rep += [vocab['<pad>']] * (length - len(string))\n",
        "  return rep\n",
        "\n",
        "\n",
        "def int_to_string( ints, inv_vocab):\n",
        "  l = [inv_vocab[i] for i in ints]\n",
        "  return l\n",
        "\n",
        "\n",
        "def preprocess_data(dataset, human_vocab, machine_vocab, Tx, Ty):\n",
        "  X, Y = zip(*dataset)\n",
        "  X = np.array([string_to_int(i, Tx, human_vocab) for i in X])\n",
        "  Y = [string_to_int(t, Ty, machine_vocab) for t in Y]\n",
        "  Xoh = np.array(list(map(lambda x: to_categorical(x, num_classes=len(human_vocab)), X)))\n",
        "  Yoh = np.array(list(map(lambda x: to_categorical(x, num_classes=len(machine_vocab)), Y)))\n",
        "\n",
        "  return X, np.array(Y), Xoh, Yoh\n",
        "\n",
        "def softmax(x, axis=1):\n",
        "    \"\"\"Softmax activation function.\n",
        "    # Arguments\n",
        "        x : Tensor.\n",
        "        axis: Integer, axis along which the softmax normalization is applied.\n",
        "    # Returns\n",
        "        Tensor, output of softmax transformation.\n",
        "    # Raises\n",
        "        ValueError: In case `dim(x) == 1`.\n",
        "    \"\"\"\n",
        "    ndim = K.ndim(x)\n",
        "    if ndim == 2:\n",
        "        return K.softmax(x)\n",
        "    elif ndim > 2:\n",
        "        e = K.exp(x - K.max(x, axis=axis, keepdims=True))\n",
        "        s = K.sum(e, axis=axis, keepdims=True)\n",
        "        return e / s\n",
        "    else:\n",
        "        raise ValueError('Cannot apply softmax to a tensor that is 1D')\n",
        "\n"
      ],
      "metadata": {
        "id": "NRD1yNVTcOrK"
      },
      "execution_count": 107,
      "outputs": []
    },
    {
      "cell_type": "markdown",
      "source": [
        "## Dataset"
      ],
      "metadata": {
        "id": "Bj_9kAKruR6w"
      }
    },
    {
      "cell_type": "code",
      "source": [
        "m = 10000\n",
        "dataset, human_vocab, machine_vocab, inv_machine_vocab = load_dataset(m)"
      ],
      "metadata": {
        "colab": {
          "base_uri": "https://localhost:8080/"
        },
        "id": "aovTuQuKuVRT",
        "outputId": "b931522e-6aee-44d1-f202-fed6dd4dea31"
      },
      "execution_count": 50,
      "outputs": [
        {
          "output_type": "stream",
          "name": "stderr",
          "text": [
            "100%|██████████| 10000/10000 [00:00<00:00, 23479.59it/s]\n"
          ]
        }
      ]
    },
    {
      "cell_type": "code",
      "source": [
        "dataset[:10]"
      ],
      "metadata": {
        "colab": {
          "base_uri": "https://localhost:8080/"
        },
        "id": "yJrDWnByuoIn",
        "outputId": "acb2bb38-7ccc-474d-b6f3-e364bcda0ff8"
      },
      "execution_count": 51,
      "outputs": [
        {
          "output_type": "execute_result",
          "data": {
            "text/plain": [
              "[('03 apr 2003', '2003-04-03'),\n",
              " ('march 30 2023', '2023-03-30'),\n",
              " ('sunday september 22 1974', '1974-09-22'),\n",
              " ('saturday august 23 1986', '1986-08-23'),\n",
              " ('14 august 1981', '1981-08-14'),\n",
              " ('15 aug 2007', '2007-08-15'),\n",
              " ('saturday december 17 2005', '2005-12-17'),\n",
              " ('tuesday september 17 1996', '1996-09-17'),\n",
              " ('friday december 4 1981', '1981-12-04'),\n",
              " ('6 jan 1992', '1992-01-06')]"
            ]
          },
          "metadata": {},
          "execution_count": 51
        }
      ]
    },
    {
      "cell_type": "code",
      "source": [
        "print(len(machine_vocab))\n",
        "print(len(human_vocab))"
      ],
      "metadata": {
        "colab": {
          "base_uri": "https://localhost:8080/"
        },
        "id": "Xisq_QIqHpYZ",
        "outputId": "2ae5ece5-2b61-431f-d1cb-6e1f9d71283d"
      },
      "execution_count": 52,
      "outputs": [
        {
          "output_type": "stream",
          "name": "stdout",
          "text": [
            "11\n",
            "37\n"
          ]
        }
      ]
    },
    {
      "cell_type": "code",
      "source": [
        "Tx =30\n",
        "Ty = 10\n",
        "\n",
        "X,Y, Xoh, Yoh = preprocess_data(dataset, human_vocab, machine_vocab, Tx, Ty)"
      ],
      "metadata": {
        "id": "NHrwrzbhu38v"
      },
      "execution_count": 53,
      "outputs": []
    },
    {
      "cell_type": "code",
      "source": [
        "print(\"X.shape:\", X.shape)\n",
        "print(\"Y.shape:\", Y.shape)\n",
        "print(\"Xoh.shape:\", Xoh.shape)\n",
        "print(\"Yoh.shape:\", Yoh.shape)"
      ],
      "metadata": {
        "colab": {
          "base_uri": "https://localhost:8080/"
        },
        "id": "3nXVdFDgHIXn",
        "outputId": "60011079-7c63-4b38-fe16-7c279e302448"
      },
      "execution_count": 54,
      "outputs": [
        {
          "output_type": "stream",
          "name": "stdout",
          "text": [
            "X.shape: (10000, 30)\n",
            "Y.shape: (10000, 10)\n",
            "Xoh.shape: (10000, 30, 37)\n",
            "Yoh.shape: (10000, 10, 11)\n"
          ]
        }
      ]
    },
    {
      "cell_type": "code",
      "source": [],
      "metadata": {
        "id": "3VWe67JuHKsB"
      },
      "execution_count": 54,
      "outputs": []
    },
    {
      "cell_type": "markdown",
      "source": [
        "## one_step_attention"
      ],
      "metadata": {
        "id": "qvOr-IytMZ-Q"
      }
    },
    {
      "cell_type": "code",
      "source": [
        "repeator = RepeatVector(Tx)\n",
        "concatenator = Concatenate(axis=-1)\n",
        "densor1 = Dense(10, activation = \"tanh\")\n",
        "densor2 = Dense(1, activation = \"relu\")\n",
        "activator = Activation(softmax, name='attention_weights')\n",
        "dotor = Dot(axes = 1)"
      ],
      "metadata": {
        "id": "NPjMkm3mJuKy"
      },
      "execution_count": 55,
      "outputs": []
    },
    {
      "cell_type": "code",
      "source": [
        "def one_step_attention(a, s_prev):\n",
        "# Use repeator to repeat s_prev to be of shape (m, Tx, n_s) so that you can concatenate it with all hidden states \"a\"\n",
        "  s_prev = repeator(s_prev)\n",
        "#Use concatenator to concatenate a and s_prev on the last axi\n",
        "  concat = concatenator([a, s_prev])\n",
        "# Use densor1 to propagate concat through a small fully-connected neural network to compute the \"intermediate energies\" variable e.\n",
        "\n",
        "  e = densor1(concat)\n",
        "# Use densor2 to propagate e through a small fully-connected neural network to compute the \"energies\" variable energies.\n",
        "\n",
        "  energies = densor2(e)\n",
        "# Use \"activator\" on \"energies\" to compute the attention weights \"alphas\"\n",
        "\n",
        "  alphas = activator(energies)\n",
        "# Use dotor together with \"alphas\" and \"a\", in this order, to compute the context vector to be given to the next (post-attention) LSTM-cell (≈ 1 line)\n",
        "\n",
        "  context = dotor([alphas, a])\n",
        "\n",
        "  return context"
      ],
      "metadata": {
        "id": "ZeUnEuiFMqkd"
      },
      "execution_count": 56,
      "outputs": []
    },
    {
      "cell_type": "code",
      "source": [],
      "metadata": {
        "id": "vGw88sq2vUlY"
      },
      "execution_count": 56,
      "outputs": []
    },
    {
      "cell_type": "markdown",
      "source": [
        "## Model"
      ],
      "metadata": {
        "id": "Yj0JOtatLugG"
      }
    },
    {
      "cell_type": "code",
      "source": [
        "n_a = 32 #number of units for the pre_attention , bi-directional LSTM's hidden state \"a\"\n",
        "n_s = 64 #number of units for the post-attention LSTM's hidden state \"s\"\n",
        "post_activation_LSTM_cell = LSTM(n_s, return_state= True)\n",
        "output_layer = Dense(len(machine_vocab),  activation = softmax)"
      ],
      "metadata": {
        "id": "27UKFA1rLw_J"
      },
      "execution_count": 95,
      "outputs": []
    },
    {
      "cell_type": "code",
      "source": [
        "def modelf(Tx, Ty, n_a, n_s, human_vocab_size, machine_vocab_size):\n",
        "    # Define the inputs of your model with a shape (Tx, human_vocab_size)\n",
        "  X =Input(shape=(Tx, human_vocab_size))\n",
        "    # Define s0 (initial hidden state) and c0 (initial cell state)\n",
        "  s0 = Input(shape=(n_s,), name= 's0')\n",
        "  c0 = Input(shape= (n_s,), name= 'c0')\n",
        "\n",
        "  s = s0\n",
        "  c = c0\n",
        "  # initilize the empty list of outputs\n",
        "  outputs = []\n",
        "  # Define your pre attention Bi-LSTM\n",
        "\n",
        "  a = Bidirectional(LSTM(n_a, return_sequences=True))(X)\n",
        "\n",
        "  for t in range(Ty):\n",
        "    context = one_step_attention(a,s)\n",
        "\n",
        "    _, s, c = post_activation_LSTM_cell(context, initial_state = [s,c])\n",
        "\n",
        "    out = output_layer(s)\n",
        "    outputs.append(out)\n",
        "    model = Model( inputs=[X,s0,c0], outputs = outputs)\n",
        "\n",
        "  return model\n"
      ],
      "metadata": {
        "id": "gF9qS0tLkK7c"
      },
      "execution_count": 96,
      "outputs": []
    },
    {
      "cell_type": "code",
      "source": [],
      "metadata": {
        "colab": {
          "base_uri": "https://localhost:8080/"
        },
        "id": "fo6lQHXqvunQ",
        "outputId": "a520b741-6500-4b5c-c68a-fac2074d78fc"
      },
      "execution_count": 85,
      "outputs": [
        {
          "output_type": "execute_result",
          "data": {
            "text/plain": [
              "10"
            ]
          },
          "metadata": {},
          "execution_count": 85
        }
      ]
    },
    {
      "cell_type": "code",
      "source": [
        "model = modelf(Tx, Ty, n_a, n_s, len(human_vocab), len(machine_vocab))"
      ],
      "metadata": {
        "id": "eciqZSSVqSz1"
      },
      "execution_count": 97,
      "outputs": []
    },
    {
      "cell_type": "code",
      "source": [
        "model.summary()"
      ],
      "metadata": {
        "colab": {
          "base_uri": "https://localhost:8080/"
        },
        "id": "krXyUneGqknL",
        "outputId": "6f481cf7-7a9f-43eb-b732-40c70fd2e76a"
      },
      "execution_count": 98,
      "outputs": [
        {
          "output_type": "stream",
          "name": "stdout",
          "text": [
            "Model: \"model_45\"\n",
            "__________________________________________________________________________________________________\n",
            " Layer (type)                Output Shape                 Param #   Connected to                  \n",
            "==================================================================================================\n",
            " input_21 (InputLayer)       [(None, 30, 37)]             0         []                            \n",
            "                                                                                                  \n",
            " s0 (InputLayer)             [(None, 64)]                 0         []                            \n",
            "                                                                                                  \n",
            " bidirectional_20 (Bidirect  (None, 30, 64)               17920     ['input_21[0][0]']            \n",
            " ional)                                                                                           \n",
            "                                                                                                  \n",
            " repeat_vector_3 (RepeatVec  (None, 30, 64)               0         ['s0[0][0]',                  \n",
            " tor)                                                                'lstm_24[0][1]',             \n",
            "                                                                     'lstm_24[1][1]',             \n",
            "                                                                     'lstm_24[2][1]',             \n",
            "                                                                     'lstm_24[3][1]',             \n",
            "                                                                     'lstm_24[4][1]',             \n",
            "                                                                     'lstm_24[5][1]',             \n",
            "                                                                     'lstm_24[6][1]',             \n",
            "                                                                     'lstm_24[7][1]',             \n",
            "                                                                     'lstm_24[8][1]']             \n",
            "                                                                                                  \n",
            " concatenate_3 (Concatenate  (None, 30, 128)              0         ['bidirectional_20[0][0]',    \n",
            " )                                                                   'repeat_vector_3[54][0]',    \n",
            "                                                                     'bidirectional_20[0][0]',    \n",
            "                                                                     'repeat_vector_3[55][0]',    \n",
            "                                                                     'bidirectional_20[0][0]',    \n",
            "                                                                     'repeat_vector_3[56][0]',    \n",
            "                                                                     'bidirectional_20[0][0]',    \n",
            "                                                                     'repeat_vector_3[57][0]',    \n",
            "                                                                     'bidirectional_20[0][0]',    \n",
            "                                                                     'repeat_vector_3[58][0]',    \n",
            "                                                                     'bidirectional_20[0][0]',    \n",
            "                                                                     'repeat_vector_3[59][0]',    \n",
            "                                                                     'bidirectional_20[0][0]',    \n",
            "                                                                     'repeat_vector_3[60][0]',    \n",
            "                                                                     'bidirectional_20[0][0]',    \n",
            "                                                                     'repeat_vector_3[61][0]',    \n",
            "                                                                     'bidirectional_20[0][0]',    \n",
            "                                                                     'repeat_vector_3[62][0]',    \n",
            "                                                                     'bidirectional_20[0][0]',    \n",
            "                                                                     'repeat_vector_3[63][0]']    \n",
            "                                                                                                  \n",
            " dense_7 (Dense)             (None, 30, 10)               1290      ['concatenate_3[54][0]',      \n",
            "                                                                     'concatenate_3[55][0]',      \n",
            "                                                                     'concatenate_3[56][0]',      \n",
            "                                                                     'concatenate_3[57][0]',      \n",
            "                                                                     'concatenate_3[58][0]',      \n",
            "                                                                     'concatenate_3[59][0]',      \n",
            "                                                                     'concatenate_3[60][0]',      \n",
            "                                                                     'concatenate_3[61][0]',      \n",
            "                                                                     'concatenate_3[62][0]',      \n",
            "                                                                     'concatenate_3[63][0]']      \n",
            "                                                                                                  \n",
            " dense_8 (Dense)             (None, 30, 1)                11        ['dense_7[54][0]',            \n",
            "                                                                     'dense_7[55][0]',            \n",
            "                                                                     'dense_7[56][0]',            \n",
            "                                                                     'dense_7[57][0]',            \n",
            "                                                                     'dense_7[58][0]',            \n",
            "                                                                     'dense_7[59][0]',            \n",
            "                                                                     'dense_7[60][0]',            \n",
            "                                                                     'dense_7[61][0]',            \n",
            "                                                                     'dense_7[62][0]',            \n",
            "                                                                     'dense_7[63][0]']            \n",
            "                                                                                                  \n",
            " attention_weights (Activat  (None, 30, 1)                0         ['dense_8[54][0]',            \n",
            " ion)                                                                'dense_8[55][0]',            \n",
            "                                                                     'dense_8[56][0]',            \n",
            "                                                                     'dense_8[57][0]',            \n",
            "                                                                     'dense_8[58][0]',            \n",
            "                                                                     'dense_8[59][0]',            \n",
            "                                                                     'dense_8[60][0]',            \n",
            "                                                                     'dense_8[61][0]',            \n",
            "                                                                     'dense_8[62][0]',            \n",
            "                                                                     'dense_8[63][0]']            \n",
            "                                                                                                  \n",
            " dot_3 (Dot)                 (None, 1, 64)                0         ['attention_weights[54][0]',  \n",
            "                                                                     'bidirectional_20[0][0]',    \n",
            "                                                                     'attention_weights[55][0]',  \n",
            "                                                                     'bidirectional_20[0][0]',    \n",
            "                                                                     'attention_weights[56][0]',  \n",
            "                                                                     'bidirectional_20[0][0]',    \n",
            "                                                                     'attention_weights[57][0]',  \n",
            "                                                                     'bidirectional_20[0][0]',    \n",
            "                                                                     'attention_weights[58][0]',  \n",
            "                                                                     'bidirectional_20[0][0]',    \n",
            "                                                                     'attention_weights[59][0]',  \n",
            "                                                                     'bidirectional_20[0][0]',    \n",
            "                                                                     'attention_weights[60][0]',  \n",
            "                                                                     'bidirectional_20[0][0]',    \n",
            "                                                                     'attention_weights[61][0]',  \n",
            "                                                                     'bidirectional_20[0][0]',    \n",
            "                                                                     'attention_weights[62][0]',  \n",
            "                                                                     'bidirectional_20[0][0]',    \n",
            "                                                                     'attention_weights[63][0]',  \n",
            "                                                                     'bidirectional_20[0][0]']    \n",
            "                                                                                                  \n",
            " c0 (InputLayer)             [(None, 64)]                 0         []                            \n",
            "                                                                                                  \n",
            " lstm_24 (LSTM)              [(None, 64),                 33024     ['dot_3[54][0]',              \n",
            "                              (None, 64),                            's0[0][0]',                  \n",
            "                              (None, 64)]                            'c0[0][0]',                  \n",
            "                                                                     'dot_3[55][0]',              \n",
            "                                                                     'lstm_24[0][1]',             \n",
            "                                                                     'lstm_24[0][2]',             \n",
            "                                                                     'dot_3[56][0]',              \n",
            "                                                                     'lstm_24[1][1]',             \n",
            "                                                                     'lstm_24[1][2]',             \n",
            "                                                                     'dot_3[57][0]',              \n",
            "                                                                     'lstm_24[2][1]',             \n",
            "                                                                     'lstm_24[2][2]',             \n",
            "                                                                     'dot_3[58][0]',              \n",
            "                                                                     'lstm_24[3][1]',             \n",
            "                                                                     'lstm_24[3][2]',             \n",
            "                                                                     'dot_3[59][0]',              \n",
            "                                                                     'lstm_24[4][1]',             \n",
            "                                                                     'lstm_24[4][2]',             \n",
            "                                                                     'dot_3[60][0]',              \n",
            "                                                                     'lstm_24[5][1]',             \n",
            "                                                                     'lstm_24[5][2]',             \n",
            "                                                                     'dot_3[61][0]',              \n",
            "                                                                     'lstm_24[6][1]',             \n",
            "                                                                     'lstm_24[6][2]',             \n",
            "                                                                     'dot_3[62][0]',              \n",
            "                                                                     'lstm_24[7][1]',             \n",
            "                                                                     'lstm_24[7][2]',             \n",
            "                                                                     'dot_3[63][0]',              \n",
            "                                                                     'lstm_24[8][1]',             \n",
            "                                                                     'lstm_24[8][2]']             \n",
            "                                                                                                  \n",
            " dense_11 (Dense)            (None, 11)                   715       ['lstm_24[0][1]',             \n",
            "                                                                     'lstm_24[1][1]',             \n",
            "                                                                     'lstm_24[2][1]',             \n",
            "                                                                     'lstm_24[3][1]',             \n",
            "                                                                     'lstm_24[4][1]',             \n",
            "                                                                     'lstm_24[5][1]',             \n",
            "                                                                     'lstm_24[6][1]',             \n",
            "                                                                     'lstm_24[7][1]',             \n",
            "                                                                     'lstm_24[8][1]',             \n",
            "                                                                     'lstm_24[9][1]']             \n",
            "                                                                                                  \n",
            "==================================================================================================\n",
            "Total params: 52960 (206.88 KB)\n",
            "Trainable params: 52960 (206.88 KB)\n",
            "Non-trainable params: 0 (0.00 Byte)\n",
            "__________________________________________________________________________________________________\n"
          ]
        }
      ]
    },
    {
      "cell_type": "code",
      "source": [
        "opt = Adam( learning_rate = 0.005, beta_1 = 0.9, beta_2 = 0.999)\n",
        "model.compile(loss = \"categorical_crossentropy\", optimizer = opt, metrics = [\"accuracy\"])"
      ],
      "metadata": {
        "id": "R6qXNAUwqmvU"
      },
      "execution_count": 99,
      "outputs": []
    },
    {
      "cell_type": "code",
      "source": [
        "s0 = np.zeros((m, n_s))\n",
        "c0 = np.zeros((m, n_s))\n",
        "outputs = list(Yoh.swapaxes(0,1))"
      ],
      "metadata": {
        "id": "2cnjyf9XtQGU"
      },
      "execution_count": 100,
      "outputs": []
    },
    {
      "cell_type": "code",
      "source": [
        "history = model.fit([Xoh, s0, c0], outputs, epochs=20, batch_size=128)"
      ],
      "metadata": {
        "colab": {
          "base_uri": "https://localhost:8080/"
        },
        "id": "zr91mtfctbBn",
        "outputId": "9f59360a-5bb1-4a9f-d2b9-d5c7812d5337"
      },
      "execution_count": 101,
      "outputs": [
        {
          "output_type": "stream",
          "name": "stdout",
          "text": [
            "Epoch 1/20\n",
            "79/79 [==============================] - 38s 130ms/step - loss: 17.2663 - dense_11_loss: 1.2437 - dense_11_1_loss: 1.1205 - dense_11_2_loss: 1.8458 - dense_11_3_loss: 2.6457 - dense_11_4_loss: 0.8226 - dense_11_5_loss: 1.3387 - dense_11_6_loss: 2.6827 - dense_11_7_loss: 1.1578 - dense_11_8_loss: 1.7977 - dense_11_9_loss: 2.6110 - dense_11_accuracy: 0.4983 - dense_11_1_accuracy: 0.6394 - dense_11_2_accuracy: 0.2766 - dense_11_3_accuracy: 0.1015 - dense_11_4_accuracy: 0.9336 - dense_11_5_accuracy: 0.3156 - dense_11_6_accuracy: 0.0344 - dense_11_7_accuracy: 0.8148 - dense_11_8_accuracy: 0.2306 - dense_11_9_accuracy: 0.1087\n",
            "Epoch 2/20\n",
            "79/79 [==============================] - 10s 131ms/step - loss: 8.7106 - dense_11_loss: 0.1966 - dense_11_1_loss: 0.1400 - dense_11_2_loss: 1.0806 - dense_11_3_loss: 2.0987 - dense_11_4_loss: 0.0156 - dense_11_5_loss: 0.2371 - dense_11_6_loss: 1.7259 - dense_11_7_loss: 0.0145 - dense_11_8_loss: 1.1364 - dense_11_9_loss: 2.0653 - dense_11_accuracy: 0.9567 - dense_11_1_accuracy: 0.9608 - dense_11_2_accuracy: 0.5160 - dense_11_3_accuracy: 0.2325 - dense_11_4_accuracy: 1.0000 - dense_11_5_accuracy: 0.9241 - dense_11_6_accuracy: 0.3595 - dense_11_7_accuracy: 0.9999 - dense_11_8_accuracy: 0.4837 - dense_11_9_accuracy: 0.2324\n",
            "Epoch 3/20\n",
            "79/79 [==============================] - 11s 136ms/step - loss: 7.1064 - dense_11_loss: 0.0986 - dense_11_1_loss: 0.0841 - dense_11_2_loss: 0.9710 - dense_11_3_loss: 1.8164 - dense_11_4_loss: 0.0069 - dense_11_5_loss: 0.1359 - dense_11_6_loss: 1.2602 - dense_11_7_loss: 0.0082 - dense_11_8_loss: 0.9140 - dense_11_9_loss: 1.8113 - dense_11_accuracy: 0.9710 - dense_11_1_accuracy: 0.9717 - dense_11_2_accuracy: 0.5684 - dense_11_3_accuracy: 0.3407 - dense_11_4_accuracy: 0.9999 - dense_11_5_accuracy: 0.9584 - dense_11_6_accuracy: 0.5581 - dense_11_7_accuracy: 0.9998 - dense_11_8_accuracy: 0.5903 - dense_11_9_accuracy: 0.3231\n",
            "Epoch 4/20\n",
            "79/79 [==============================] - 9s 117ms/step - loss: 5.8655 - dense_11_loss: 0.0753 - dense_11_1_loss: 0.0647 - dense_11_2_loss: 0.8525 - dense_11_3_loss: 1.3719 - dense_11_4_loss: 0.0050 - dense_11_5_loss: 0.1209 - dense_11_6_loss: 1.0205 - dense_11_7_loss: 0.0066 - dense_11_8_loss: 0.7953 - dense_11_9_loss: 1.5528 - dense_11_accuracy: 0.9758 - dense_11_1_accuracy: 0.9779 - dense_11_2_accuracy: 0.6309 - dense_11_3_accuracy: 0.5129 - dense_11_4_accuracy: 0.9999 - dense_11_5_accuracy: 0.9641 - dense_11_6_accuracy: 0.6318 - dense_11_7_accuracy: 0.9999 - dense_11_8_accuracy: 0.6621 - dense_11_9_accuracy: 0.4171\n",
            "Epoch 5/20\n",
            "79/79 [==============================] - 10s 133ms/step - loss: 3.8810 - dense_11_loss: 0.0647 - dense_11_1_loss: 0.0478 - dense_11_2_loss: 0.5712 - dense_11_3_loss: 0.4989 - dense_11_4_loss: 0.0053 - dense_11_5_loss: 0.1012 - dense_11_6_loss: 0.8042 - dense_11_7_loss: 0.0054 - dense_11_8_loss: 0.6760 - dense_11_9_loss: 1.1064 - dense_11_accuracy: 0.9789 - dense_11_1_accuracy: 0.9827 - dense_11_2_accuracy: 0.7683 - dense_11_3_accuracy: 0.8643 - dense_11_4_accuracy: 0.9997 - dense_11_5_accuracy: 0.9710 - dense_11_6_accuracy: 0.7235 - dense_11_7_accuracy: 0.9996 - dense_11_8_accuracy: 0.7312 - dense_11_9_accuracy: 0.5981\n",
            "Epoch 6/20\n",
            "79/79 [==============================] - 11s 136ms/step - loss: 2.0774 - dense_11_loss: 0.0490 - dense_11_1_loss: 0.0366 - dense_11_2_loss: 0.1142 - dense_11_3_loss: 0.1247 - dense_11_4_loss: 0.0024 - dense_11_5_loss: 0.0803 - dense_11_6_loss: 0.5179 - dense_11_7_loss: 0.0038 - dense_11_8_loss: 0.5199 - dense_11_9_loss: 0.6286 - dense_11_accuracy: 0.9834 - dense_11_1_accuracy: 0.9852 - dense_11_2_accuracy: 0.9783 - dense_11_3_accuracy: 0.9910 - dense_11_4_accuracy: 1.0000 - dense_11_5_accuracy: 0.9756 - dense_11_6_accuracy: 0.8463 - dense_11_7_accuracy: 1.0000 - dense_11_8_accuracy: 0.8110 - dense_11_9_accuracy: 0.7859\n",
            "Epoch 7/20\n",
            "79/79 [==============================] - 11s 136ms/step - loss: 1.4037 - dense_11_loss: 0.0358 - dense_11_1_loss: 0.0248 - dense_11_2_loss: 0.0206 - dense_11_3_loss: 0.0575 - dense_11_4_loss: 0.0013 - dense_11_5_loss: 0.0632 - dense_11_6_loss: 0.3511 - dense_11_7_loss: 0.0028 - dense_11_8_loss: 0.4129 - dense_11_9_loss: 0.4337 - dense_11_accuracy: 0.9889 - dense_11_1_accuracy: 0.9905 - dense_11_2_accuracy: 0.9995 - dense_11_3_accuracy: 0.9972 - dense_11_4_accuracy: 1.0000 - dense_11_5_accuracy: 0.9808 - dense_11_6_accuracy: 0.9056 - dense_11_7_accuracy: 1.0000 - dense_11_8_accuracy: 0.8514 - dense_11_9_accuracy: 0.8438\n",
            "Epoch 8/20\n",
            "79/79 [==============================] - 9s 115ms/step - loss: 1.0561 - dense_11_loss: 0.0167 - dense_11_1_loss: 0.0073 - dense_11_2_loss: 0.0094 - dense_11_3_loss: 0.0421 - dense_11_4_loss: 8.9911e-04 - dense_11_5_loss: 0.0558 - dense_11_6_loss: 0.2683 - dense_11_7_loss: 0.0023 - dense_11_8_loss: 0.3260 - dense_11_9_loss: 0.3273 - dense_11_accuracy: 0.9960 - dense_11_1_accuracy: 0.9982 - dense_11_2_accuracy: 0.9997 - dense_11_3_accuracy: 0.9977 - dense_11_4_accuracy: 1.0000 - dense_11_5_accuracy: 0.9808 - dense_11_6_accuracy: 0.9239 - dense_11_7_accuracy: 0.9999 - dense_11_8_accuracy: 0.8765 - dense_11_9_accuracy: 0.8784\n",
            "Epoch 9/20\n",
            "79/79 [==============================] - 11s 135ms/step - loss: 0.8344 - dense_11_loss: 0.0078 - dense_11_1_loss: 0.0027 - dense_11_2_loss: 0.0070 - dense_11_3_loss: 0.0339 - dense_11_4_loss: 7.3423e-04 - dense_11_5_loss: 0.0468 - dense_11_6_loss: 0.2208 - dense_11_7_loss: 0.0017 - dense_11_8_loss: 0.2576 - dense_11_9_loss: 0.2554 - dense_11_accuracy: 0.9991 - dense_11_1_accuracy: 0.9997 - dense_11_2_accuracy: 0.9997 - dense_11_3_accuracy: 0.9976 - dense_11_4_accuracy: 1.0000 - dense_11_5_accuracy: 0.9840 - dense_11_6_accuracy: 0.9375 - dense_11_7_accuracy: 1.0000 - dense_11_8_accuracy: 0.9031 - dense_11_9_accuracy: 0.9016\n",
            "Epoch 10/20\n",
            "79/79 [==============================] - 11s 136ms/step - loss: 0.6515 - dense_11_loss: 0.0047 - dense_11_1_loss: 0.0016 - dense_11_2_loss: 0.0051 - dense_11_3_loss: 0.0291 - dense_11_4_loss: 4.2421e-04 - dense_11_5_loss: 0.0380 - dense_11_6_loss: 0.1739 - dense_11_7_loss: 0.0016 - dense_11_8_loss: 0.1894 - dense_11_9_loss: 0.2077 - dense_11_accuracy: 0.9997 - dense_11_1_accuracy: 1.0000 - dense_11_2_accuracy: 0.9998 - dense_11_3_accuracy: 0.9978 - dense_11_4_accuracy: 1.0000 - dense_11_5_accuracy: 0.9872 - dense_11_6_accuracy: 0.9491 - dense_11_7_accuracy: 0.9999 - dense_11_8_accuracy: 0.9321 - dense_11_9_accuracy: 0.9197\n",
            "Epoch 11/20\n",
            "79/79 [==============================] - 11s 135ms/step - loss: 0.5123 - dense_11_loss: 0.0032 - dense_11_1_loss: 0.0013 - dense_11_2_loss: 0.0046 - dense_11_3_loss: 0.0260 - dense_11_4_loss: 4.0350e-04 - dense_11_5_loss: 0.0336 - dense_11_6_loss: 0.1474 - dense_11_7_loss: 0.0015 - dense_11_8_loss: 0.1314 - dense_11_9_loss: 0.1629 - dense_11_accuracy: 0.9997 - dense_11_1_accuracy: 0.9999 - dense_11_2_accuracy: 0.9998 - dense_11_3_accuracy: 0.9978 - dense_11_4_accuracy: 1.0000 - dense_11_5_accuracy: 0.9887 - dense_11_6_accuracy: 0.9573 - dense_11_7_accuracy: 1.0000 - dense_11_8_accuracy: 0.9581 - dense_11_9_accuracy: 0.9452\n",
            "Epoch 12/20\n",
            "79/79 [==============================] - 9s 118ms/step - loss: 0.4198 - dense_11_loss: 0.0026 - dense_11_1_loss: 0.0013 - dense_11_2_loss: 0.0042 - dense_11_3_loss: 0.0258 - dense_11_4_loss: 3.0284e-04 - dense_11_5_loss: 0.0310 - dense_11_6_loss: 0.1290 - dense_11_7_loss: 0.0015 - dense_11_8_loss: 0.0981 - dense_11_9_loss: 0.1261 - dense_11_accuracy: 0.9999 - dense_11_1_accuracy: 1.0000 - dense_11_2_accuracy: 0.9999 - dense_11_3_accuracy: 0.9976 - dense_11_4_accuracy: 1.0000 - dense_11_5_accuracy: 0.9894 - dense_11_6_accuracy: 0.9617 - dense_11_7_accuracy: 0.9998 - dense_11_8_accuracy: 0.9689 - dense_11_9_accuracy: 0.9614\n",
            "Epoch 13/20\n",
            "79/79 [==============================] - 10s 131ms/step - loss: 0.2839 - dense_11_loss: 0.0019 - dense_11_1_loss: 9.3989e-04 - dense_11_2_loss: 0.0034 - dense_11_3_loss: 0.0225 - dense_11_4_loss: 2.9517e-04 - dense_11_5_loss: 0.0272 - dense_11_6_loss: 0.1043 - dense_11_7_loss: 9.7152e-04 - dense_11_8_loss: 0.0476 - dense_11_9_loss: 0.0747 - dense_11_accuracy: 0.9999 - dense_11_1_accuracy: 1.0000 - dense_11_2_accuracy: 0.9999 - dense_11_3_accuracy: 0.9978 - dense_11_4_accuracy: 1.0000 - dense_11_5_accuracy: 0.9906 - dense_11_6_accuracy: 0.9670 - dense_11_7_accuracy: 1.0000 - dense_11_8_accuracy: 0.9906 - dense_11_9_accuracy: 0.9809\n",
            "Epoch 14/20\n",
            "79/79 [==============================] - 11s 134ms/step - loss: 0.2397 - dense_11_loss: 0.0016 - dense_11_1_loss: 7.8338e-04 - dense_11_2_loss: 0.0027 - dense_11_3_loss: 0.0212 - dense_11_4_loss: 1.8854e-04 - dense_11_5_loss: 0.0232 - dense_11_6_loss: 0.0871 - dense_11_7_loss: 9.0634e-04 - dense_11_8_loss: 0.0382 - dense_11_9_loss: 0.0638 - dense_11_accuracy: 0.9999 - dense_11_1_accuracy: 1.0000 - dense_11_2_accuracy: 0.9999 - dense_11_3_accuracy: 0.9978 - dense_11_4_accuracy: 1.0000 - dense_11_5_accuracy: 0.9916 - dense_11_6_accuracy: 0.9736 - dense_11_7_accuracy: 0.9999 - dense_11_8_accuracy: 0.9922 - dense_11_9_accuracy: 0.9833\n",
            "Epoch 15/20\n",
            "79/79 [==============================] - 11s 136ms/step - loss: 0.1844 - dense_11_loss: 0.0012 - dense_11_1_loss: 7.2108e-04 - dense_11_2_loss: 0.0025 - dense_11_3_loss: 0.0195 - dense_11_4_loss: 2.0046e-04 - dense_11_5_loss: 0.0204 - dense_11_6_loss: 0.0716 - dense_11_7_loss: 5.8371e-04 - dense_11_8_loss: 0.0230 - dense_11_9_loss: 0.0446 - dense_11_accuracy: 1.0000 - dense_11_1_accuracy: 1.0000 - dense_11_2_accuracy: 0.9999 - dense_11_3_accuracy: 0.9978 - dense_11_4_accuracy: 1.0000 - dense_11_5_accuracy: 0.9937 - dense_11_6_accuracy: 0.9780 - dense_11_7_accuracy: 1.0000 - dense_11_8_accuracy: 0.9962 - dense_11_9_accuracy: 0.9893\n",
            "Epoch 16/20\n",
            "79/79 [==============================] - 10s 121ms/step - loss: 0.1662 - dense_11_loss: 9.6587e-04 - dense_11_1_loss: 6.2928e-04 - dense_11_2_loss: 0.0023 - dense_11_3_loss: 0.0185 - dense_11_4_loss: 1.9161e-04 - dense_11_5_loss: 0.0190 - dense_11_6_loss: 0.0642 - dense_11_7_loss: 5.7730e-04 - dense_11_8_loss: 0.0224 - dense_11_9_loss: 0.0375 - dense_11_accuracy: 1.0000 - dense_11_1_accuracy: 1.0000 - dense_11_2_accuracy: 0.9998 - dense_11_3_accuracy: 0.9978 - dense_11_4_accuracy: 1.0000 - dense_11_5_accuracy: 0.9927 - dense_11_6_accuracy: 0.9808 - dense_11_7_accuracy: 1.0000 - dense_11_8_accuracy: 0.9954 - dense_11_9_accuracy: 0.9900\n",
            "Epoch 17/20\n",
            "79/79 [==============================] - 10s 131ms/step - loss: 0.1280 - dense_11_loss: 7.6536e-04 - dense_11_1_loss: 6.2137e-04 - dense_11_2_loss: 0.0023 - dense_11_3_loss: 0.0178 - dense_11_4_loss: 1.4119e-04 - dense_11_5_loss: 0.0175 - dense_11_6_loss: 0.0507 - dense_11_7_loss: 4.8176e-04 - dense_11_8_loss: 0.0123 - dense_11_9_loss: 0.0254 - dense_11_accuracy: 1.0000 - dense_11_1_accuracy: 0.9999 - dense_11_2_accuracy: 0.9998 - dense_11_3_accuracy: 0.9977 - dense_11_4_accuracy: 1.0000 - dense_11_5_accuracy: 0.9941 - dense_11_6_accuracy: 0.9852 - dense_11_7_accuracy: 1.0000 - dense_11_8_accuracy: 0.9985 - dense_11_9_accuracy: 0.9944\n",
            "Epoch 18/20\n",
            "79/79 [==============================] - 11s 136ms/step - loss: 0.1321 - dense_11_loss: 7.9722e-04 - dense_11_1_loss: 4.6612e-04 - dense_11_2_loss: 0.0020 - dense_11_3_loss: 0.0174 - dense_11_4_loss: 1.5744e-04 - dense_11_5_loss: 0.0190 - dense_11_6_loss: 0.0536 - dense_11_7_loss: 4.5732e-04 - dense_11_8_loss: 0.0115 - dense_11_9_loss: 0.0268 - dense_11_accuracy: 1.0000 - dense_11_1_accuracy: 1.0000 - dense_11_2_accuracy: 0.9999 - dense_11_3_accuracy: 0.9979 - dense_11_4_accuracy: 1.0000 - dense_11_5_accuracy: 0.9935 - dense_11_6_accuracy: 0.9836 - dense_11_7_accuracy: 1.0000 - dense_11_8_accuracy: 0.9985 - dense_11_9_accuracy: 0.9931\n",
            "Epoch 19/20\n",
            "79/79 [==============================] - 11s 134ms/step - loss: 0.0832 - dense_11_loss: 5.8778e-04 - dense_11_1_loss: 3.6103e-04 - dense_11_2_loss: 0.0016 - dense_11_3_loss: 0.0154 - dense_11_4_loss: 1.4386e-04 - dense_11_5_loss: 0.0094 - dense_11_6_loss: 0.0309 - dense_11_7_loss: 3.2905e-04 - dense_11_8_loss: 0.0082 - dense_11_9_loss: 0.0162 - dense_11_accuracy: 1.0000 - dense_11_1_accuracy: 1.0000 - dense_11_2_accuracy: 0.9999 - dense_11_3_accuracy: 0.9977 - dense_11_4_accuracy: 1.0000 - dense_11_5_accuracy: 0.9972 - dense_11_6_accuracy: 0.9920 - dense_11_7_accuracy: 1.0000 - dense_11_8_accuracy: 0.9995 - dense_11_9_accuracy: 0.9971\n",
            "Epoch 20/20\n",
            "79/79 [==============================] - 9s 117ms/step - loss: 0.2338 - dense_11_loss: 9.7758e-04 - dense_11_1_loss: 0.0012 - dense_11_2_loss: 0.0090 - dense_11_3_loss: 0.0251 - dense_11_4_loss: 0.0010 - dense_11_5_loss: 0.0180 - dense_11_6_loss: 0.0622 - dense_11_7_loss: 0.0023 - dense_11_8_loss: 0.0458 - dense_11_9_loss: 0.0683 - dense_11_accuracy: 0.9999 - dense_11_1_accuracy: 0.9998 - dense_11_2_accuracy: 0.9982 - dense_11_3_accuracy: 0.9959 - dense_11_4_accuracy: 0.9998 - dense_11_5_accuracy: 0.9948 - dense_11_6_accuracy: 0.9826 - dense_11_7_accuracy: 0.9993 - dense_11_8_accuracy: 0.9852 - dense_11_9_accuracy: 0.9789\n"
          ]
        }
      ]
    },
    {
      "cell_type": "code",
      "source": [
        "def plot_attention_map(modelx, input_vocabulary, inv_output_vocabulary, text, n_s = 128, num = 7):\n",
        "    \"\"\"\n",
        "    Plot the attention map.\n",
        "\n",
        "    \"\"\"\n",
        "    attention_map = np.zeros((10, 30))\n",
        "    layer = modelx.get_layer('attention_weights')\n",
        "\n",
        "    Ty, Tx = attention_map.shape\n",
        "\n",
        "    human_vocab_size = 37\n",
        "\n",
        "\n",
        "    X = modelx.inputs[0]\n",
        "    s0 = modelx.inputs[1]\n",
        "    c0 = modelx.inputs[2]\n",
        "    s = s0\n",
        "    c = s0\n",
        "\n",
        "    a = modelx.layers[2](X)\n",
        "    outputs = []\n",
        "\n",
        "    for t in range(Ty):\n",
        "        s_prev = s\n",
        "        s_prev = modelx.layers[3](s_prev)\n",
        "        concat = modelx.layers[4]([a, s_prev])\n",
        "        e = modelx.layers[5](concat)\n",
        "        energies = modelx.layers[6](e)\n",
        "        alphas = modelx.layers[7](energies)\n",
        "        context = modelx.layers[8]([alphas, a])\n",
        "        # Don't forget to pass: initial_state = [hidden state, cell state] (≈ 1 line)\n",
        "        s, _, c = modelx.layers[10](context, initial_state = [s, c])\n",
        "        outputs.append(energies)\n",
        "\n",
        "    f = Model(inputs=[X, s0, c0], outputs = outputs)\n",
        "\n",
        "\n",
        "    s0 = np.zeros((1, n_s))\n",
        "    c0 = np.zeros((1, n_s))\n",
        "    encoded = np.array(string_to_int(text, Tx, input_vocabulary)).reshape((1, 30))\n",
        "    encoded = np.array(list(map(lambda x: to_categorical(x, num_classes=len(input_vocabulary)), encoded)))\n",
        "\n",
        "\n",
        "    r = f([encoded, s0, c0])\n",
        "\n",
        "    for t in range(Ty):\n",
        "        for t_prime in range(Tx):\n",
        "            attention_map[t][t_prime] = r[t][0, t_prime]\n",
        "\n",
        "    # Normalize attention map\n",
        "    row_max = attention_map.max(axis=1)\n",
        "    attention_map = attention_map / row_max[:, None]\n",
        "\n",
        "    prediction = modelx.predict([encoded, s0, c0])\n",
        "\n",
        "    predicted_text = []\n",
        "    for i in range(len(prediction)):\n",
        "        predicted_text.append(int(np.argmax(prediction[i], axis=1)))\n",
        "\n",
        "    predicted_text = list(predicted_text)\n",
        "    predicted_text = int_to_string(predicted_text, inv_output_vocabulary)\n",
        "    text_ = list(text)\n",
        "\n",
        "    # get the lengths of the string\n",
        "    input_length = len(text)\n",
        "    output_length = Ty\n",
        "\n",
        "    # Plot the attention_map\n",
        "    plt.clf()\n",
        "    f = plt.figure(figsize=(8, 8.5))\n",
        "    ax = f.add_subplot(1, 1, 1)\n",
        "\n",
        "    # add image\n",
        "    i = ax.imshow(attention_map, interpolation='nearest', cmap='Blues')\n",
        "\n",
        "    # add colorbar\n",
        "    cbaxes = f.add_axes([0.2, 0, 0.6, 0.03])\n",
        "    cbar = f.colorbar(i, cax=cbaxes, orientation='horizontal')\n",
        "    cbar.ax.set_xlabel('Alpha value (Probability output of the \"softmax\")', labelpad=2)\n",
        "\n",
        "    # add labels\n",
        "    ax.set_yticks(range(output_length))\n",
        "    ax.set_yticklabels(predicted_text[:output_length])\n",
        "\n",
        "    ax.set_xticks(range(input_length))\n",
        "    ax.set_xticklabels(text_[:input_length], rotation=45)\n",
        "\n",
        "    ax.set_xlabel('Input Sequence')\n",
        "    ax.set_ylabel('Output Sequence')\n",
        "\n",
        "    # add grid and legend\n",
        "    ax.grid()\n",
        "\n",
        "    #f.show()\n",
        "\n",
        "    return attention_map"
      ],
      "metadata": {
        "id": "jJJ1ymjz2rAW"
      },
      "execution_count": 103,
      "outputs": []
    },
    {
      "cell_type": "code",
      "source": [
        "EXAMPLES = ['3 May 1979', '5 April 09', '21th of August 2016', 'Tue 10 Jul 2007', 'Saturday May 9 2018', 'March 3 2001', 'March 3rd 2001', '1 March 2001']\n",
        "s00 = np.zeros((1, n_s))\n",
        "c00 = np.zeros((1, n_s))\n",
        "for example in EXAMPLES:\n",
        "    source = string_to_int(example, Tx, human_vocab)\n",
        "    #print(source)\n",
        "    source = np.array(list(map(lambda x: to_categorical(x, num_classes=len(human_vocab)), source))).swapaxes(0,1)\n",
        "    source = np.swapaxes(source, 0, 1)\n",
        "    source = np.expand_dims(source, axis=0)\n",
        "    prediction = model.predict([source, s00, c00])\n",
        "    prediction = np.argmax(prediction, axis = -1)\n",
        "    output = [inv_machine_vocab[int(i)] for i in prediction]\n",
        "    print(\"source:\", example)\n",
        "    print(\"output:\", ''.join(output),\"\\n\")"
      ],
      "metadata": {
        "colab": {
          "base_uri": "https://localhost:8080/"
        },
        "id": "DUjPi27dxO2z",
        "outputId": "ef8b4888-afab-4de7-abf1-88983ef21caa"
      },
      "execution_count": 102,
      "outputs": [
        {
          "output_type": "stream",
          "name": "stdout",
          "text": [
            "1/1 [==============================] - 6s 6s/step\n",
            "source: 3 May 1979\n",
            "output: 1979-05-03 \n",
            "\n",
            "1/1 [==============================] - 0s 28ms/step\n",
            "source: 5 April 09\n",
            "output: 2009-04-05 \n",
            "\n",
            "1/1 [==============================] - 0s 29ms/step\n",
            "source: 21th of August 2016\n",
            "output: 2016-08-21 \n",
            "\n",
            "1/1 [==============================] - 0s 38ms/step\n",
            "source: Tue 10 Jul 2007\n",
            "output: 2007-07-10 \n",
            "\n",
            "1/1 [==============================] - 0s 29ms/step\n",
            "source: Saturday May 9 2018\n",
            "output: 2018-05-09 \n",
            "\n",
            "1/1 [==============================] - 0s 32ms/step\n",
            "source: March 3 2001\n",
            "output: 2001-03-03 \n",
            "\n",
            "1/1 [==============================] - 0s 48ms/step\n",
            "source: March 3rd 2001\n",
            "output: 2001-03-03 \n",
            "\n",
            "1/1 [==============================] - 0s 51ms/step\n",
            "source: 1 March 2001\n",
            "output: 2001-03-01 \n",
            "\n"
          ]
        }
      ]
    },
    {
      "cell_type": "code",
      "source": [
        "attention_map = plot_attention_map(model, human_vocab, inv_machine_vocab, \"1983, 09 Oct\", num = 7, n_s = 64);"
      ],
      "metadata": {
        "colab": {
          "base_uri": "https://localhost:8080/",
          "height": 670
        },
        "id": "BmLPfXx73AQk",
        "outputId": "b4a6ad0a-eddb-4160-a35a-c16183ca4e60"
      },
      "execution_count": 110,
      "outputs": [
        {
          "output_type": "stream",
          "name": "stdout",
          "text": [
            "1/1 [==============================] - 0s 37ms/step\n"
          ]
        },
        {
          "output_type": "stream",
          "name": "stderr",
          "text": [
            "<ipython-input-103-53ace7f8c4f9>:52: RuntimeWarning: invalid value encountered in divide\n",
            "  attention_map = attention_map / row_max[:, None]\n"
          ]
        },
        {
          "output_type": "display_data",
          "data": {
            "text/plain": [
              "<Figure size 640x480 with 0 Axes>"
            ]
          },
          "metadata": {}
        },
        {
          "output_type": "display_data",
          "data": {
            "text/plain": [
              "<Figure size 800x850 with 2 Axes>"
            ],
            "image/png": "[encoded data removed]"
          },
          "metadata": {}
        }
      ]
    }
  ]
}